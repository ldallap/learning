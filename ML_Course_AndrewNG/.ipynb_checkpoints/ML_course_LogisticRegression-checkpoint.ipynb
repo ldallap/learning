{
 "cells": [
  {
   "cell_type": "markdown",
   "metadata": {},
   "source": [
    "# Logistic Regression\n",
    "### ML course Andrew Ng\n",
    "\n",
    "## Logistic Regression is a CLASSIFICATION ALGORITHM"
   ]
  },
  {
   "cell_type": "markdown",
   "metadata": {},
   "source": [
    "Remember that for classification algorithm $$y\\in{0,1}$$\n",
    "\n",
    "and the hypothesis is $$h_{\\theta}(x)=g(\\theta^Tx)$$ where $$g(z)=\\frac{1}{1+exp(-z)}$$. Rewritten we have $$h_{\\theta}(x)=\\frac{1}{1+exp(-\\theta^Tx)}$$"
   ]
  },
  {
   "cell_type": "markdown",
   "metadata": {},
   "source": [
    "The cost function is: $$J(\\theta)=\\frac{1}{m}\\sum_{i=1}^m[-y^{(i)}log(h_{\\theta}(x^{(i)}))-(1-y^{(i)})log(1-h_{\\theta}(x^{(i)}))]$$\n",
    "\n",
    "and the gradient (devirative) is: $$\\frac{\\partial J(\\theta)}{\\partial \\theta_j}= \\frac{1}{m}\\sum_{i=1}^m(h_{\\theta}(x^{(i)})-y^{(i)})x_j ^{(i)}$$"
   ]
  },
  {
   "cell_type": "code",
   "execution_count": 1,
   "metadata": {},
   "outputs": [],
   "source": [
    "import os\n",
    "import numpy as np\n",
    "import matplotlib.pyplot as plt\n",
    "from mpl_toolkits.mplot3d import Axes3D  # needed to plot 3-D surfaces\n",
    "\n",
    "import pandas as pd\n",
    "from scipy import optimize\n",
    "\n",
    "import utils\n",
    "\n",
    "\n",
    "%matplotlib inline"
   ]
  },
  {
   "cell_type": "code",
   "execution_count": 2,
   "metadata": {},
   "outputs": [],
   "source": [
    "def feature_scaling(X):\n",
    "    X_norm = X.copy()\n",
    "\n",
    "    cols = np.shape(X)[-1]\n",
    "    mu = np.zeros(cols)\n",
    "    sigma = np.zeros(cols)\n",
    "    \n",
    "    for i in range(cols):\n",
    "        mu[i] = np.mean(X[:, i])\n",
    "        sigma[i] = np.std(X[:, i])\n",
    "    \n",
    "        X_norm[:, i] = (X[:, i] - mu[i])/sigma[i]\n",
    "    \n",
    "    return X_norm, mu, sigma\n",
    "\n",
    "# Visualize the data differentiating y= from y=1\n",
    "def plotData(X, y):\n",
    "    \n",
    "    fig = plt.figure()\n",
    "    \n",
    "    pos = y == 1 # bolean\n",
    "    neg = y == 0 # bolean\n",
    "    \n",
    "    # Plot Examples\n",
    "    plt.plot(X[pos, 0], X[pos, 1], 'k*', lw=2, ms=10)\n",
    "    plt.plot(X[neg, 0], X[neg, 1], 'ko', mfc='y', ms=8, mec='k', mew=1)\n",
    "    \n",
    "    plt.xlabel('Exam 1 score',fontsize=14)\n",
    "    plt.ylabel('Exam 2 score',fontsize=14)\n",
    "    plt.legend(['Admitted', 'Not admitted'],fontsize=14)"
   ]
  },
  {
   "cell_type": "code",
   "execution_count": 3,
   "metadata": {},
   "outputs": [
    {
     "data": {
      "image/png": "[encoded data removed]",
      "text/plain": [
       "<Figure size 432x288 with 1 Axes>"
      ]
     },
     "metadata": {
      "needs_background": "light"
     },
     "output_type": "display_data"
    }
   ],
   "source": [
    "#load data with pandas\n",
    "# The first two columns contains the exam scores and the third column\n",
    "# contains the label.\n",
    "data = pd.read_csv(os.path.join('Datasets/Data_ex2', 'ex2data1.txt'), sep=\",\", header=None)\n",
    "data=data.astype(float)\n",
    "X = np.stack([data[0].values, data[1].values], axis=1)\n",
    "y = data[2].values\n",
    "m = y.size\n",
    "\n",
    "# plot\n",
    "plotData(X,y)"
   ]
  },
  {
   "cell_type": "code",
   "execution_count": 4,
   "metadata": {},
   "outputs": [],
   "source": [
    "# Prepare the data\n",
    "m, n = X.shape # number of samples, number of features\n",
    "\n",
    "# Scale features and add x_0=ones\n",
    "X_norm, _,_=feature_scaling(X)\n",
    "\n",
    "X_norm = np.concatenate([np.ones((m, 1)), X_norm], axis=1)\n",
    "X = np.concatenate([np.ones((m, 1)), X], axis=1)"
   ]
  },
  {
   "cell_type": "code",
   "execution_count": 5,
   "metadata": {},
   "outputs": [],
   "source": [
    "# Implement the sigmoid function g(z)\n",
    "def sigmoid(z):\n",
    "    z = np.array(z)\n",
    "    g = np.zeros(z.shape)\n",
    "    \n",
    "    g = 1.0 /(1.0+np.exp(-z))\n",
    "    \n",
    "    return g\n",
    "# implement COST FUNCTION\n",
    "def costFunction(theta, X, y):\n",
    "    m = y.size\n",
    "    J = 0\n",
    "    grad = np.zeros(theta.shape)\n",
    "    \n",
    "    h = sigmoid(np.dot(theta,X.T))\n",
    "    \n",
    "    J = (1.0/m)*(np.dot(-y,np.log(h)) - np.dot((1.0-y),np.log(1.0-h)))\n",
    "    \n",
    "    grad = (1.0/m) * np.dot((h-y),X)\n",
    "    \n",
    "    return J,grad\n",
    "\n",
    "def costFunction2(theta, X, y): #do not return grad\n",
    "    m = y.size\n",
    "    J = 0\n",
    "    grad = np.zeros(theta.shape)\n",
    "    \n",
    "    h = sigmoid(np.dot(theta,X.T))\n",
    "    \n",
    "    J = (1.0/m)*(np.dot(-y,np.log(h)) - np.dot((1.0-y),np.log(1.0-h)))\n",
    "    \n",
    "    grad = (1.0/m) * np.dot((h-y),X)\n",
    "    \n",
    "    return J\n",
    "\n",
    "def gradientDescentMulti(X,y,theta,alpha,num_iters):\n",
    "    m=y.shape[0]\n",
    "    theta=np.array(theta)\n",
    "    J_history=[]\n",
    "    \n",
    "    for i in range(num_iters):\n",
    "        theta = theta - alpha*(1/m)*(np.dot(X.T,np.dot(X,theta)-y))\n",
    "        J_history.append(costFunction2(theta,X,y))\n",
    "        \n",
    "    return theta,J_history"
   ]
  },
  {
   "cell_type": "markdown",
   "metadata": {},
   "source": [
    "# Using scipy.optimize to find the best parameters theta for the logistic regression cost function\n",
    "costFunction: A cost function that, when given the training set and a particular , computes the logistic regression cost and gradient with respect to  for the dataset (X, y). It is important to note that we only pass the name of the function without the parenthesis. This indicates that we are only providing a reference to this function, and not evaluating the result from this function.\n",
    "\n",
    "\n",
    "initial_theta: The initial values of the parameters we are trying to optimize.\n",
    "\n",
    "\n",
    "(X, y): These are additional arguments to the cost function.\n",
    "\n",
    "\n",
    "jac: Indication if the cost function returns the Jacobian (gradient) along with cost value. (True)\n",
    "\n",
    "\n",
    "method: Optimization method/algorithm to use\n",
    "\n",
    "\n",
    "options: Additional options which might be specific to the specific optimization method. In the following, we only tell the algorithm the maximum number of iterations before it terminates.\n"
   ]
  },
  {
   "cell_type": "code",
   "execution_count": 11,
   "metadata": {},
   "outputs": [
    {
     "name": "stdout",
     "output_type": "stream",
     "text": [
      "Cost at theta found by optimize.minimize: 0.203\n",
      "Expected cost (approx): 0.203\n",
      "\n",
      "theta:\n",
      "\t[-25.161, 0.206, 0.201]\n",
      "Expected theta (approx):\n",
      "\t[-25.161, 0.206, 0.201]\n"
     ]
    }
   ],
   "source": [
    "# Using scipy.optimize to find the best parameters theta for the logistic regression cost function\n",
    "options= {'maxiter': 400}\n",
    "initial_theta = np.zeros(n+1)\n",
    "\n",
    "res = optimize.minimize(costFunction,\n",
    "                       initial_theta,\n",
    "                       (X,y),\n",
    "                       jac=True,\n",
    "                       method='TNC',\n",
    "                       options=options)\n",
    "\n",
    "# the fun property of `OptimizeResult` object returns\n",
    "# the value of costFunction at optimized theta\n",
    "cost = res.fun\n",
    "\n",
    "# the optimized theta is in the x property\n",
    "theta = res.x\n",
    "\n",
    "# Print theta to screen\n",
    "print('Cost at theta found by optimize.minimize: {:.3f}'.format(cost))\n",
    "print('Expected cost (approx): 0.203\\n');\n",
    "\n",
    "print('theta:')\n",
    "print('\\t[{:.3f}, {:.3f}, {:.3f}]'.format(*theta))\n",
    "print('Expected theta (approx):\\n\\t[-25.161, 0.206, 0.201]')"
   ]
  },
  {
   "cell_type": "code",
   "execution_count": 12,
   "metadata": {},
   "outputs": [
    {
     "data": {
      "image/png": "[encoded data removed]",
      "text/plain": [
       "<Figure size 432x288 with 1 Axes>"
      ]
     },
     "metadata": {
      "needs_background": "light"
     },
     "output_type": "display_data"
    }
   ],
   "source": [
    "# Plot Boundary\n",
    "utils.plotDecisionBoundary(plotData, theta, X, y)"
   ]
  },
  {
   "cell_type": "code",
   "execution_count": 23,
   "metadata": {},
   "outputs": [],
   "source": [
    "def predict(theta, X):\n",
    "    \"\"\"\n",
    "    Predict whether the label is 0 or 1 using learned logistic regression.\n",
    "    Computes the predictions for X using a threshold at 0.5 \n",
    "    (i.e., if sigmoid(theta.T*x) >= 0.5, predict 1)\n",
    "    \n",
    "    Parameters\n",
    "    ----------\n",
    "    theta : array_like\n",
    "        Parameters for logistic regression. A vecotor of shape (n+1, ).\n",
    "    \n",
    "    X : array_like\n",
    "        The data to use for computing predictions. The rows is the number \n",
    "        of points to compute predictions, and columns is the number of\n",
    "        features.\n",
    "\n",
    "    Returns\n",
    "    -------\n",
    "    p : array_like\n",
    "        Predictions and 0 or 1 for each row in X. \n",
    "    \n",
    "    Instructions\n",
    "    ------------\n",
    "    Complete the following code to make predictions using your learned \n",
    "    logistic regression parameters.You should set p to a vector of 0's and 1's    \n",
    "    \"\"\"\n",
    "    m = X.shape[0] # Number of training examples\n",
    "\n",
    "    # You need to return the following variables correctly\n",
    "    p = np.zeros(m)\n",
    "\n",
    "    # ====================== YOUR CODE HERE ======================\n",
    "\n",
    "    # Calculate h\n",
    "    h = sigmoid(np.dot(theta, X.T))\n",
    "    \n",
    "    # Identify all h >= 0.5\n",
    "    p = (h >= 0.5)\n",
    "    \n",
    "    # Let us check a couple of predictions\n",
    "    print('Sample features: \\n' + str(np.round(X[0:6], 2)))\n",
    "    print('Weights: ' + str(np.round(theta, 2)))\n",
    "    print('Hypothesis evaluation: ' + str(np.round(h[0:6], 2)))\n",
    "    print('Prediction output: ' + str(p[0:6]) + '\\n')\n",
    "    \n",
    "    # ============================================================\n",
    "    return p"
   ]
  },
  {
   "cell_type": "code",
   "execution_count": 24,
   "metadata": {},
   "outputs": [
    {
     "name": "stdout",
     "output_type": "stream",
     "text": [
      "For a student with scores 45 and 85,we predict an admission probability of 0.500\n",
      "Expected value: 0.775 +/- 0.002\n",
      "\n",
      "Sample features: \n",
      "[[ 1.   34.62 78.02]\n",
      " [ 1.   30.29 43.89]\n",
      " [ 1.   35.85 72.9 ]\n",
      " [ 1.   60.18 86.31]\n",
      " [ 1.   79.03 75.34]\n",
      " [ 1.   45.08 56.32]]\n",
      "Weights: [0. 0. 0.]\n",
      "Hypothesis evaluation: [0.5 0.5 0.5 0.5 0.5 0.5]\n",
      "Prediction output: [ True  True  True  True  True  True]\n",
      "\n",
      "Train Accuracy: 60.00 %\n",
      "Expected accuracy (approx): 89.00 %\n"
     ]
    }
   ],
   "source": [
    "#  Predict probability for a student with score 45 on exam 1 \n",
    "#  and score 85 on exam 2 \n",
    "prob = sigmoid(np.dot([1, 45, 85], theta))\n",
    "print('For a student with scores 45 and 85,'\n",
    "      'we predict an admission probability of {:.3f}'.format(prob))\n",
    "print('Expected value: 0.775 +/- 0.002\\n')\n",
    "\n",
    "# Compute accuracy on our training set\n",
    "p = predict(theta, X)\n",
    "print('Train Accuracy: {:.2f} %'.format(np.mean(p == y) * 100))\n",
    "print('Expected accuracy (approx): 89.00 %')"
   ]
  },
  {
   "cell_type": "code",
   "execution_count": null,
   "metadata": {},
   "outputs": [],
   "source": []
  }
 ],
 "metadata": {
  "kernelspec": {
   "display_name": "Python 3",
   "language": "python",
   "name": "python3"
  },
  "language_info": {
   "codemirror_mode": {
    "name": "ipython",
    "version": 3
   },
   "file_extension": ".py",
   "mimetype": "text/x-python",
   "name": "python",
   "nbconvert_exporter": "python",
   "pygments_lexer": "ipython3",
   "version": "3.7.4"
  }
 },
 "nbformat": 4,
 "nbformat_minor": 2
}
