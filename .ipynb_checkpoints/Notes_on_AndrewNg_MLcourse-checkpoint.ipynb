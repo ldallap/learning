{
 "cells": [
  {
   "cell_type": "markdown",
   "metadata": {},
   "source": [
    "# My personal notes for Andrew Ng Machine Learning course\n",
    "\n",
    "link:\n",
    "https://www.youtube.com/playlist?list=PLZ9qNFMHZ-A4rycgrgOYma6zxF4BZGGPW"
   ]
  },
  {
   "cell_type": "code",
   "execution_count": 1,
   "metadata": {},
   "outputs": [],
   "source": [
    "import numpy as np\n",
    "import matplotlib.pyplot as plt\n",
    "import math"
   ]
  },
  {
   "cell_type": "markdown",
   "metadata": {},
   "source": [
    "#### Transforming a for loop in a matrix multiplication"
   ]
  },
  {
   "cell_type": "markdown",
   "metadata": {},
   "source": [
    "Note 1: if you want to convert a matrix (X) line in a matrix column use **X.reshape()**\n",
    "\n",
    "Note 2: if you want to convert a vector into a matrix with one o more columns use **np.c_[np.ones((len(X),1)),X]**\n",
    "\n",
    "See Example below"
   ]
  },
  {
   "cell_type": "code",
   "execution_count": 5,
   "metadata": {},
   "outputs": [
    {
     "name": "stdout",
     "output_type": "stream",
     "text": [
      "[1 2 3 4]\n",
      "\n",
      "[[1]\n",
      " [2]\n",
      " [3]\n",
      " [4]]\n",
      "\n",
      "[[1. 1. 1.]\n",
      " [1. 1. 2.]\n",
      " [1. 1. 3.]\n",
      " [1. 1. 4.]]\n"
     ]
    }
   ],
   "source": [
    "#Example\n",
    "X=np.array([1,2,3,4])\n",
    "print(f\"{X}\\n\")\n",
    "print(f\"{X.reshape(4,1)}\\n\")\n",
    "print(f\"{np.c_[np.ones((len(X),2)),X]}\")\n",
    "\n",
    "del X"
   ]
  },
  {
   "cell_type": "markdown",
   "metadata": {},
   "source": [
    "## Example\n",
    "\n",
    "Imagine that you have a dataset Y with only one feature and you want to evaluate a funciton **f(x)=-40+0.25*x**.\n",
    "\n",
    "We can do it as a for loop, but better with a matrix multiplication as follows:\n",
    "\n",
    "$$Y=\n",
    "\\begin{pmatrix}\n",
    " 2104\\\\\n",
    " 1416\\\\\n",
    " 1534\\\\\n",
    " 852\\\\\n",
    "\\end{pmatrix}\n",
    "$$\n",
    "\n",
    "and\n",
    "$$f(x)=-40+0.25\\cdot~x$$\n",
    "\n",
    "Solving through matrix multiplication we have:\n",
    "\n",
    "$$f(Y)=\n",
    "\\begin{pmatrix}\n",
    " 1 && 2104\\\\\n",
    " 1 &&1416\\\\\n",
    " 1 &&1534\\\\\n",
    " 1 && 852\\\\\n",
    "\\end{pmatrix}\n",
    "\\times\n",
    "\\begin{pmatrix}\n",
    " -40\\\\\n",
    " 0.25\\\\\n",
    "\\end{pmatrix}\n",
    "=\n",
    "\\begin{pmatrix}\n",
    " 486\\\\\n",
    " 314\\\\\n",
    " 343.5\\\\\n",
    " 173\\\\\n",
    "\\end{pmatrix}\n",
    "$$"
   ]
  },
  {
   "cell_type": "code",
   "execution_count": 3,
   "metadata": {},
   "outputs": [
    {
     "name": "stdout",
     "output_type": "stream",
     "text": [
      "[486.  314.  343.5 173. ]\n"
     ]
    }
   ],
   "source": [
    "Y = np.array([2104,1416,1534,852]) #dataset\n",
    "#Transform the Y in a matrix 2x1 (rows x columns)\n",
    "Y = np.c_[np.ones((len(Y),1)),Y]\n",
    "\n",
    "fx = np.array([-40,0.25])\n",
    "\n",
    "Answer = Y@fx #or Y.dot(fx)\n",
    "print(Answer)"
   ]
  },
  {
   "cell_type": "markdown",
   "metadata": {},
   "source": [
    "The same example above can be solve for multiple competing hypothesis f(x). Example:\n",
    "$$Y=\n",
    "\\begin{pmatrix}\n",
    " 2104\\\\\n",
    " 1416\\\\\n",
    " 1534\\\\\n",
    " 852\\\\\n",
    "\\end{pmatrix}\n",
    "$$\n",
    "\n",
    "and\n",
    "1. $$f(x)=-40+0.25\\cdot~x$$\n",
    "2. $$f(x)=200+0.1\\cdot~x$$\n",
    "3. $$f(x)=-150+0.4\\cdot~x$$\n",
    "\n",
    "Solving through matrix multiplication we have:\n",
    "\n",
    "$$f(Y)=\n",
    "\\begin{pmatrix}\n",
    " 1 && 2104\\\\\n",
    " 1 &&1416\\\\\n",
    " 1 &&1534\\\\\n",
    " 1 && 852\\\\\n",
    "\\end{pmatrix}\n",
    "\\times\n",
    "\\begin{pmatrix}\n",
    " -40 && 200 && -150\\\\\n",
    " 0.25 && 0.1 && 0.4\\\\\n",
    "\\end{pmatrix}\n",
    "=\n",
    "\\begin{pmatrix}\n",
    " 486 && 410 && 692\\\\\n",
    " 314 && 342 && 416\\\\\n",
    " 344 && 353 && 464\\\\\n",
    " 173 && 285 && 191\\\\\n",
    "\\end{pmatrix}\n",
    "$$"
   ]
  },
  {
   "cell_type": "code",
   "execution_count": 6,
   "metadata": {},
   "outputs": [
    {
     "name": "stdout",
     "output_type": "stream",
     "text": [
      "[[486.  410.4 691.6]\n",
      " [314.  341.6 416.4]\n",
      " [343.5 353.4 463.6]\n",
      " [173.  285.2 190.8]]\n"
     ]
    }
   ],
   "source": [
    "Y = np.array([2104,1416,1534,852]) #dataset\n",
    "#Transform the Y in a matrix 2x1 (rows x columns)\n",
    "Y = np.c_[np.ones((len(Y),1)),Y]\n",
    "\n",
    "fx = np.array([[-40,200,-150],[0.25,0.1,0.4]])\n",
    "\n",
    "Answer = Y@fx #or Y.dot(fx)\n",
    "print(Answer)"
   ]
  },
  {
   "cell_type": "markdown",
   "metadata": {},
   "source": [
    "**Linear Regression with multiple features** \n",
    "\n",
    "Again imagine that we want to predict house prices.\n",
    "\n",
    "\n",
    "\\begin{pmatrix}\n",
    " \\text{Size}(x_1) && \\text{#ofbedrooms}(x_2) && \\text{#offloors}(x_3) && \\text{age of home}(x_4) && \\text{Price}(Y)\\\\\n",
    " 2104 && 5 && 1 && 45 && 460 \\\\\n",
    " 1416&& 3 && 2 && 40 && 232 \\\\\n",
    " 1534 && 3 && 2 && 30 && 315 \\\\\n",
    "\\end{pmatrix}\n",
    "\n",
    "Notation:\n",
    "\n",
    "$n=$number of features\n",
    "\n",
    "$x^{(i)}=$ input of $i^{th}$ training example. Ex: $x^{(2)}=[1416,3,2,232]$\n",
    "\n",
    "$x_j^{(i)}=$ input of feature j in $i^{th}$ training example. Ex: $x_3^{(2)}=2$\n",
    "\n",
    "**Hypothesis with multiple features**\n",
    "\n",
    "$h_{\\theta}(x)=\\theta^{T}X=\\theta_0 x_0 + \\theta_1 x_1 + \\cdots \\theta_n x_n$ \n",
    "\n",
    "Because\n",
    "\n",
    "$X=\n",
    "\\begin{pmatrix}\n",
    " x_0\\\\\n",
    " x_1\\\\\n",
    " \\vdots \\\\\n",
    " x_n\\\\\n",
    "\\end{pmatrix}\n",
    "$\n",
    "and\n",
    "$\\theta=\n",
    "\\begin{pmatrix}\n",
    " \\theta_0\\\\\n",
    " \\theta_1\\\\\n",
    " \\vdots\\\\\n",
    " \\theta_n\\\\\n",
    "\\end{pmatrix}\n",
    "$\n",
    "\n",
    "which turn out to be\n",
    "\n",
    "$\\theta^{T}X=\\matrix{\\pmatrix{\\theta_0 & \\theta_1 & ... & \\theta_n}}\\pmatrix{x_0^{(i)}\\cr x_1^{(i)}\\cr ...\\cr x_n^{(i)}\\cr}=\\theta_0 x_0 + \\theta_1 x_1 + \\cdots \\theta_n x_n$"
   ]
  },
  {
   "cell_type": "markdown",
   "metadata": {},
   "source": [
    "**Compute transpose matrix in python**\n",
    "\n",
    "Let A be an **mxn** matrix and let $B=A^T$. \n",
    "Them B is an **nxm** matrix and **$B_{ij}=A_{ji}$**"
   ]
  },
  {
   "cell_type": "code",
   "execution_count": 14,
   "metadata": {},
   "outputs": [
    {
     "name": "stdout",
     "output_type": "stream",
     "text": [
      "Original Array A:\n",
      "[[1 2 3]\n",
      " [4 5 6]]\n",
      "\n",
      "Transpose B:\n",
      "[[1 4]\n",
      " [2 5]\n",
      " [3 6]]\n"
     ]
    }
   ],
   "source": [
    "A = np.array([[1, 2, 3], [4, 5, 6]])\n",
    "\n",
    "print(f'Original Array A:\\n{arr1}\\n')\n",
    "\n",
    "B = A.transpose()\n",
    "\n",
    "print(f'Transpose B:\\n{arr1_transpose}')\n"
   ]
  },
  {
   "cell_type": "markdown",
   "metadata": {},
   "source": [
    "<span style=\"color:red\">ATTENTION</span>:\n",
    "Scale your features to be in a similar scale. Doing so GD will work more efficiently.\n",
    "\n",
    "Example:\n",
    "\n",
    "$x_1$ = size (ranging from 0 to 2000)\n",
    "\n",
    "$x_2$ = number of bedrooms (ranging from 1 to 5)\n",
    "\n",
    "**Scaling** to approx. $-1\\leq x \\leq 1$.\n",
    "\n",
    "$x_1 = \\frac{x_1}{max({x_1})}$\n",
    "\n",
    "\n",
    "$x_2 = \\frac{x_1}{max({x_2})}$\n",
    "\n",
    "Another option is to discount the mean. Or discount the mean and divide by the std.\n",
    "Values too large are bad as well are those too small"
   ]
  },
  {
   "cell_type": "markdown",
   "metadata": {},
   "source": [
    "**Maker sure GD is working correclty**\n",
    "\n",
    "Always plot **$J(\\theta)$ vs #ofiterations$**\n",
    "\n",
    "It should **always decrease**. If some bumps occur or it increase instead you are probably using a too large learning rate $\\alpha$"
   ]
  },
  {
   "cell_type": "code",
   "execution_count": null,
   "metadata": {},
   "outputs": [],
   "source": []
  }
 ],
 "metadata": {
  "gist": {
   "data": {
    "description": "Gradient Descent-Python",
    "public": true
   },
   "id": ""
  },
  "hide_input": false,
  "kernelspec": {
   "display_name": "Python 3",
   "language": "python",
   "name": "python3"
  },
  "language_info": {
   "codemirror_mode": {
    "name": "ipython",
    "version": 3
   },
   "file_extension": ".py",
   "mimetype": "text/x-python",
   "name": "python",
   "nbconvert_exporter": "python",
   "pygments_lexer": "ipython3",
   "version": "3.7.4"
  },
  "toc": {
   "base_numbering": 1,
   "nav_menu": {},
   "number_sections": true,
   "sideBar": true,
   "skip_h1_title": false,
   "title_cell": "Table of Contents",
   "title_sidebar": "Contents",
   "toc_cell": false,
   "toc_position": {
    "height": "calc(100% - 180px)",
    "left": "10px",
    "top": "150px",
    "width": "279.233px"
   },
   "toc_section_display": true,
   "toc_window_display": true
  },
  "varInspector": {
   "cols": {
    "lenName": 16,
    "lenType": 16,
    "lenVar": 40
   },
   "kernels_config": {
    "python": {
     "delete_cmd_postfix": "",
     "delete_cmd_prefix": "del ",
     "library": "var_list.py",
     "varRefreshCmd": "print(var_dic_list())"
    },
    "r": {
     "delete_cmd_postfix": ") ",
     "delete_cmd_prefix": "rm(",
     "library": "var_list.r",
     "varRefreshCmd": "cat(var_dic_list()) "
    }
   },
   "position": {
    "height": "461.183px",
    "left": "846.167px",
    "right": "138.333px",
    "top": "127px",
    "width": "559.667px"
   },
   "types_to_exclude": [
    "module",
    "function",
    "builtin_function_or_method",
    "instance",
    "_Feature"
   ],
   "window_display": false
  }
 },
 "nbformat": 4,
 "nbformat_minor": 2
}
