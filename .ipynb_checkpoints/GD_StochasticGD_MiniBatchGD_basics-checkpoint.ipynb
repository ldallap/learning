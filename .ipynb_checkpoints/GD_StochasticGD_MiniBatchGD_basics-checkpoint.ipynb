{
 "cells": [
  {
   "cell_type": "code",
   "execution_count": 1,
   "metadata": {},
   "outputs": [],
   "source": [
    "#All based on the tutorial: https://towardsdatascience.com/gradient-descent-in-python-a0d07285742f"
   ]
  },
  {
   "cell_type": "code",
   "execution_count": 2,
   "metadata": {},
   "outputs": [],
   "source": [
    "import numpy as np\n",
    "import matplotlib.pyplot as plt"
   ]
  },
  {
   "cell_type": "markdown",
   "metadata": {},
   "source": [
    "**Linear Regression**:\n",
    "    \n",
    "\\begin{equation}\n",
    "y=b+mx\n",
    "\\end{equation}\n",
    "\n",
    "where b is the intercept and m the slope of the curve.\n",
    "\n",
    "\n",
    "**ML notation**\n",
    "\n",
    "\\begin{equation}\n",
    "J(\\theta)=\\theta_0+\\theta_1\\cdot X\n",
    "\\end{equation}\n",
    "\n",
    "where for the data example\n",
    "    \n",
    "\\begin{equation} \\theta_0= 4 \\end{equation} \n",
    "\\begin{equation} \\theta_1= 3 \\end{equation} \n",
    "\n",
    "where $b=\\theta_0$ and $m=\\theta_1$\n"
   ]
  },
  {
   "cell_type": "code",
   "execution_count": 3,
   "metadata": {},
   "outputs": [
    {
     "data": {
      "image/png": "[encoded data removed]",
      "text/plain": [
       "<Figure size 576x432 with 1 Axes>"
      ]
     },
     "metadata": {
      "needs_background": "light"
     },
     "output_type": "display_data"
    }
   ],
   "source": [
    "#Create data\n",
    "X = 2 * np.random.rand(100,1)\n",
    "y = 4 +3 * X+np.random.randn(100,1)\n",
    "#Visualize\n",
    "# %matplotlib notebook\n",
    "\n",
    "plt.figure(figsize=(8,6))\n",
    "plt.plot(X,y,'o',label='random data')\n",
    "plt.yticks(fontsize=12)\n",
    "plt.xticks(fontsize=12)\n",
    "plt.ylabel('y',fontsize=14)\n",
    "plt.xlabel('X',fontsize=14)\n",
    "plt.legend(fontsize=12)\n",
    "_ =plt.axis([0,2,0,15])\n",
    "plt.show()"
   ]
  },
  {
   "cell_type": "markdown",
   "metadata": {},
   "source": [
    "### Analytical solving"
   ]
  },
  {
   "cell_type": "code",
   "execution_count": 4,
   "metadata": {},
   "outputs": [
    {
     "name": "stdout",
     "output_type": "stream",
     "text": [
      "[[4.38401137]\n",
      " [2.70777399]]\n"
     ]
    }
   ],
   "source": [
    "X_b = np.c_[np.ones((100,1)),X] #bias unit to go from vector to matrix\n",
    "\n",
    "theta_best = np.linalg.inv(X_b.T.dot(X_b)).dot(X_b.T).dot(y)\n",
    "\n",
    "print(theta_best)"
   ]
  },
  {
   "cell_type": "code",
   "execution_count": 5,
   "metadata": {},
   "outputs": [],
   "source": [
    "theta0=theta_best[0][0]\n",
    "theta1=theta_best[1][0]"
   ]
  },
  {
   "cell_type": "code",
   "execution_count": 6,
   "metadata": {},
   "outputs": [
    {
     "data": {
      "image/png": "[encoded data removed]",
      "text/plain": [
       "<Figure size 576x432 with 1 Axes>"
      ]
     },
     "metadata": {
      "needs_background": "light"
     },
     "output_type": "display_data"
    }
   ],
   "source": [
    "plt.figure(figsize=(8,6))\n",
    "plt.plot(X,y,'o',label='random data')\n",
    "plt.plot(X,theta0+X*theta1,linewidth=2)\n",
    "plt.yticks(fontsize=12)\n",
    "plt.xticks(fontsize=12)\n",
    "plt.ylabel('y',fontsize=14)\n",
    "plt.xlabel('X',fontsize=14)\n",
    "plt.legend(fontsize=12)\n",
    "_ =plt.axis([0,2,0,15])\n",
    "plt.show()"
   ]
  },
  {
   "cell_type": "markdown",
   "metadata": {},
   "source": [
    "## Cost Function & Gradients\n",
    "\n",
    "The equation for calculating cost function and gradients are as shown below. Please note the cost function is for Linear regression. For other algorithms the cost function will be different and the gradients would have  to be derived from the cost functions\n",
    "\n",
    "\n",
    "\n",
    "<b>Cost</b>\n",
    "\\begin{equation}\n",
    "J(\\theta) = 1/2m \\sum_{i=1}^{m} (h(\\theta)^{(i)} - y^{(i)})^2 \n",
    "\\end{equation}\n",
    "\n",
    "<b>Gradient</b>\n",
    "\n",
    "\\begin{equation}\n",
    "\\frac{\\partial J(\\theta)}{\\partial \\theta_j} = 1/m\\sum_{i=1}^{m}(h(\\theta^{(i)} - y^{(i)}).X_j^{(i)}\n",
    "\\end{equation}\n",
    "\n",
    "<b>Gradients</b>\n",
    "\\begin{equation}\n",
    "\\theta_0: = \\theta_0 -\\alpha . (1/m .\\sum_{i=1}^{m}(h(\\theta^{(i)} - y^{(i)}).X_0^{(i)})\n",
    "\\end{equation}\n",
    "\\begin{equation}\n",
    "\\theta_1: = \\theta_1 -\\alpha . (1/m .\\sum_{i=1}^{m}(h(\\theta^{(i)} - y^{(i)}).X_1^{(i)})\n",
    "\\end{equation}\n",
    "\\begin{equation}\n",
    "\\theta_2: = \\theta_2 -\\alpha . (1/m .\\sum_{i=1}^{m}(h(\\theta^{(i)} - y^{(i)}).X_2^{(i)})\n",
    "\\end{equation}\n",
    "\n",
    "\\begin{equation}\n",
    "\\theta_j: = \\theta_j -\\alpha . (1/m .\\sum_{i=1}^{m}(h(\\theta^{(i)} - y^{(i)}).X_0^{(i)})\n",
    "\\end{equation}"
   ]
  },
  {
   "cell_type": "markdown",
   "metadata": {},
   "source": [
    "The cost function implementation vectorized:\n",
    "\n",
    "\n",
    "\\begin{equation}\n",
    "J(\\theta) = \\frac{1}{2m} (X\\theta-y)^T(X\\theta-y) \n",
    "\\end{equation}\n",
    "\n",
    "Derivation vectorized to **all** theta:\n",
    "\\begin{equation}\n",
    "        \\frac{\\partial}{\\partial\\theta}J(\\theta)=\\frac{1}{m}X^T(X\\theta-y)\n",
    "\\end{equation}\n"
   ]
  },
  {
   "cell_type": "code",
   "execution_count": 7,
   "metadata": {},
   "outputs": [],
   "source": [
    "def cost_func(theta,X,y):\n",
    "    '''\n",
    "    Calculates the cost function for a given X and y.\n",
    "    \n",
    "    theta = Vectors of theta\n",
    "    X = Row of X's np.zeros((2,j))\n",
    "    y = Actual y's np.zeros((2,1))\n",
    "    \n",
    "    j = number of features\n",
    "    '''\n",
    "    m=len(y)\n",
    "    predictions=X.dot(theta)\n",
    "    cost=(1/2*m) * np.sum(np.square(predictions-y))\n",
    "    \n",
    "    return cost\n",
    "\n",
    "\n",
    "def cost_func2(theta,X,y):\n",
    "    '''\n",
    "    Calculates the cost function for a given X and y in a vectorized form\n",
    "    '''\n",
    "    m=len(y)\n",
    "    cost = (1/(2*m))*np.transpose((X@theta -y))@(X@theta-y)\n",
    "\n",
    "    return cost\n",
    "\n",
    "\n",
    "def gradient_descent(X,y,theta,learning_rate=0.01,iterations=100):\n",
    "    '''\n",
    "    X    = Matrix of X with added bias units\n",
    "    y    = Vector of Y\n",
    "    theta=Vector of thetas np.random.randn(j,1)\n",
    "    learning_rate \n",
    "    iterations = no of iterations\n",
    "    \n",
    "    Returns the final theta vector and array of cost history over no of iterations\n",
    "    '''\n",
    "    m = len(y)\n",
    "    cost_history = np.zeros(iterations)\n",
    "    theta_history = np.zeros((iterations,2))\n",
    "    \n",
    "    for i in range(iterations):\n",
    "        prediction = X.dot(theta)\n",
    "        \n",
    "        theta = theta -(1/m)*learning_rate*(X.T.dot((prediction-y)))\n",
    "        theta_history[i,:] = theta.T\n",
    "        cost_history[i] = cost_func(theta,X,y)\n",
    "        \n",
    "    return theta, cost_history, theta_history\n",
    "\n",
    "def gradient_descent2(X,y,theta,learning_rate=0.01,iterations=100):\n",
    "    '''\n",
    "    X    = Matrix of X with added bias units\n",
    "    y    = Vector of Y\n",
    "    theta=Vector of thetas np.random.randn(j,1)\n",
    "    learning_rate \n",
    "    iterations = no of iterations\n",
    "    \n",
    "    Returns the final theta vector and array of cost history over no of iterations\n",
    "    '''\n",
    "    m = len(y)\n",
    "    cost_history = np.zeros(iterations)\n",
    "    theta_history = np.zeros((iterations,2))\n",
    "    \n",
    "    for i in range(iterations):\n",
    "        prediction = X.dot(theta)\n",
    "        \n",
    "        theta = theta -(1/m)*learning_rate*(X.T.dot((prediction-y)))\n",
    "        theta_history[i,:] = theta.T\n",
    "        cost_history[i] = cost_func2(theta,X,y)\n",
    "        \n",
    "    return theta, cost_history, theta_history"
   ]
  },
  {
   "cell_type": "markdown",
   "metadata": {},
   "source": [
    "Run GD on the example data"
   ]
  },
  {
   "cell_type": "code",
   "execution_count": 8,
   "metadata": {},
   "outputs": [
    {
     "name": "stdout",
     "output_type": "stream",
     "text": [
      "Theta0:          3.718,\n",
      "Theta1:          3.264\n",
      "Theta0:          3.718,\n",
      "Theta1:          3.264\n",
      "1-Final cost/MSE:  5989.901\n",
      "2-Final cost/MSE:  0.599\n"
     ]
    }
   ],
   "source": [
    "l_rate =0.01\n",
    "n_iterations = 1000\n",
    "\n",
    "#We have two variable: theta zero and theta one.\n",
    "#Initialize it randomly\n",
    "theta = np.random.randn(2,1)\n",
    "\n",
    "#We need X expressed as a matrix so we add a column of ones\n",
    "#np.c_ Translates slice objects to concatenation along the second axis.\n",
    "X_b = np.c_[np.ones((len(X),1)),X]\n",
    "\n",
    "theta1,cost_history1,theta_history1 = gradient_descent(X_b,y,theta,l_rate,n_iterations)\n",
    "theta2,cost_history2,theta_history2 = gradient_descent2(X_b,y,theta,l_rate,n_iterations)\n",
    "\n",
    "\n",
    "print('Theta0:          {:0.3f},\\nTheta1:          {:0.3f}'.format(theta1[0][0],theta1[1][0]))\n",
    "print('Theta0:          {:0.3f},\\nTheta1:          {:0.3f}'.format(theta2[0][0],theta2[1][0]))\n",
    "\n",
    "print('1-Final cost/MSE:  {:0.3f}'.format(cost_history1[-1]))\n",
    "print('2-Final cost/MSE:  {:0.3f}'.format(cost_history2[-1]))"
   ]
  },
  {
   "cell_type": "markdown",
   "metadata": {},
   "source": [
    "How the cost varies with the number of iteration? I.e., how many iterations do we really need?"
   ]
  },
  {
   "cell_type": "code",
   "execution_count": 27,
   "metadata": {},
   "outputs": [
    {
     "data": {
      "image/png": "[encoded data removed]",
      "text/plain": [
       "<Figure size 864x576 with 1 Axes>"
      ]
     },
     "metadata": {
      "needs_background": "light"
     },
     "output_type": "display_data"
    }
   ],
   "source": [
    "fig,ax = plt.subplots(figsize=(12,8))\n",
    "\n",
    "ax.set_ylabel('J(Theta)',fontsize=12)\n",
    "ax.set_xlabel('Iterations',fontsize=12)\n",
    "\n",
    "rates=[0.1,0.05,0.01,0.005,0.001]\n",
    "\n",
    "for l_rate in rates:\n",
    "    theta = np.random.randn(2,1)\n",
    "    X_b = np.c_[np.ones((len(X),1)),X]\n",
    "    theta1,cost_history1,theta_history1 = gradient_descent(X_b,y,theta,l_rate,n_iterations)\n",
    "\n",
    "    _=ax.plot(range(n_iterations),cost_history1,'o',label=\"lr:{}\".format(l_rate))\n",
    "    plt.legend()\n",
    "# _=ax.plot(range(n_iterations),cost_history2)\n",
    "plt.title(\"Convergence time for different learning rates\",fontsize=14)\n",
    "ax.set_xlim([-10,400])\n",
    "plt.show()"
   ]
  },
  {
   "cell_type": "markdown",
   "metadata": {},
   "source": [
    "# Stochastic Gradient Descent (SGD)"
   ]
  },
  {
   "cell_type": "markdown",
   "metadata": {},
   "source": [
    "In pure **GD** we perfomr gradients on **each observation** one by one. Conversely, in **SGD** we perform over random observations, i.e., **samples are selected randomly**."
   ]
  },
  {
   "cell_type": "code",
   "execution_count": 32,
   "metadata": {},
   "outputs": [],
   "source": [
    "def stocashtic_gradient_descent(X,y,theta,learning_rate=0.01,iterations=10):\n",
    "    '''\n",
    "    X    = Matrix of X with added bias units\n",
    "    y    = Vector of Y\n",
    "    theta=Vector of thetas np.random.randn(j,1)\n",
    "    learning_rate \n",
    "    iterations = no of iterations\n",
    "    \n",
    "    Returns the final theta vector and array of cost history over no of iterations\n",
    "    '''\n",
    "    m = len(y)\n",
    "    cost_history = np.zeros(iterations)\n",
    "    \n",
    "    \n",
    "    for it in range(iterations):\n",
    "        cost =0.0\n",
    "        for i in range(m):\n",
    "            rand_ind = np.random.randint(0,m)\n",
    "            X_i = X[rand_ind,:].reshape(1,X.shape[1])\n",
    "            y_i = y[rand_ind].reshape(1,1)\n",
    "            prediction = np.dot(X_i,theta)\n",
    "\n",
    "            theta = theta -(1/m)*learning_rate*( X_i.T.dot((prediction - y_i)))\n",
    "            cost += cost_func(theta,X_i,y_i)\n",
    "        cost_history[it]  = cost\n",
    "        \n",
    "    return theta, cost_history"
   ]
  },
  {
   "cell_type": "code",
   "execution_count": 33,
   "metadata": {},
   "outputs": [
    {
     "name": "stdout",
     "output_type": "stream",
     "text": [
      "Theta0:          4.467,\n",
      "Theta1:          2.799\n",
      "Final cost/MSE:  41.772\n"
     ]
    }
   ],
   "source": [
    "lr =0.5\n",
    "n_iter = 100\n",
    "\n",
    "theta = np.random.randn(2,1)\n",
    "\n",
    "X_b = np.c_[np.ones((len(X),1)),X]\n",
    "theta,cost_history = stocashtic_gradient_descent(X_b,y,theta,lr,n_iter)\n",
    "\n",
    "\n",
    "print('Theta0:          {:0.3f},\\nTheta1:          {:0.3f}'.format(theta[0][0],theta[1][0]))\n",
    "print('Final cost/MSE:  {:0.3f}'.format(cost_history[-1]))"
   ]
  },
  {
   "cell_type": "code",
   "execution_count": 34,
   "metadata": {},
   "outputs": [
    {
     "data": {
      "image/png": "[encoded data removed]",
      "text/plain": [
       "<Figure size 864x576 with 1 Axes>"
      ]
     },
     "metadata": {
      "needs_background": "light"
     },
     "output_type": "display_data"
    }
   ],
   "source": [
    "fig,ax = plt.subplots(figsize=(12,8))\n",
    "\n",
    "ax.set_ylabel('J(Theta)')\n",
    "ax.set_xlabel('Iterations')\n",
    "_=ax.plot(range(n_iter),cost_history,'b.')"
   ]
  },
  {
   "cell_type": "markdown",
   "metadata": {},
   "source": [
    "# Mini Batch Gradient Descent\n"
   ]
  },
  {
   "cell_type": "markdown",
   "metadata": {},
   "source": [
    "In actual practice we use an approach called Mini batch gradient descent. This approach uses random samples but in batches. What this means is that we do not calculate the gradients for each observation but for a group of observations which results in a faster optimization. **A simple way to implement is to shuffle the observations and then create batches and then proceed with gradient descent using batches**."
   ]
  },
  {
   "cell_type": "code",
   "execution_count": 36,
   "metadata": {},
   "outputs": [],
   "source": [
    "def minibatch_gradient_descent(X,y,theta,learning_rate=0.01,iterations=10,batch_size =20):\n",
    "    '''\n",
    "    X    = Matrix of X without added bias units\n",
    "    y    = Vector of Y\n",
    "    theta=Vector of thetas np.random.randn(j,1)\n",
    "    learning_rate \n",
    "    iterations = no of iterations\n",
    "    \n",
    "    Returns the final theta vector and array of cost history over no of iterations\n",
    "    '''\n",
    "    m = len(y)\n",
    "    cost_history = np.zeros(iterations)\n",
    "    n_batches = int(m/batch_size)\n",
    "    \n",
    "    for it in range(iterations):\n",
    "        cost =0.0\n",
    "        indices = np.random.permutation(m)\n",
    "        X = X[indices]\n",
    "        y = y[indices]\n",
    "        for i in range(0,m,batch_size):\n",
    "            X_i = X[i:i+batch_size]\n",
    "            y_i = y[i:i+batch_size]\n",
    "            \n",
    "            X_i = np.c_[np.ones(len(X_i)),X_i]\n",
    "           \n",
    "            prediction = np.dot(X_i,theta)\n",
    "\n",
    "            theta = theta -(1/m)*learning_rate*( X_i.T.dot((prediction - y_i)))\n",
    "            cost += cost_func(theta,X_i,y_i)\n",
    "        cost_history[it]  = cost\n",
    "        \n",
    "    return theta, cost_history"
   ]
  },
  {
   "cell_type": "code",
   "execution_count": 37,
   "metadata": {},
   "outputs": [
    {
     "name": "stdout",
     "output_type": "stream",
     "text": [
      "Theta0:          4.315,\n",
      "Theta1:          2.768\n",
      "Final cost/MSE:  1095.834\n"
     ]
    }
   ],
   "source": [
    "lr =0.1\n",
    "n_iter = 200\n",
    "\n",
    "theta = np.random.randn(2,1)\n",
    "\n",
    "\n",
    "theta,cost_history = minibatch_gradient_descent(X,y,theta,lr,n_iter)\n",
    "\n",
    "\n",
    "print('Theta0:          {:0.3f},\\nTheta1:          {:0.3f}'.format(theta[0][0],theta[1][0]))\n",
    "print('Final cost/MSE:  {:0.3f}'.format(cost_history[-1]))"
   ]
  },
  {
   "cell_type": "code",
   "execution_count": 38,
   "metadata": {},
   "outputs": [
    {
     "data": {
      "image/png": "[encoded data removed]",
      "text/plain": [
       "<Figure size 720x576 with 1 Axes>"
      ]
     },
     "metadata": {
      "needs_background": "light"
     },
     "output_type": "display_data"
    }
   ],
   "source": [
    "fig,ax = plt.subplots(figsize=(10,8))\n",
    "\n",
    "ax.set_ylabel('{J(Theta)}',rotation=0)\n",
    "ax.set_xlabel('{Iterations}')\n",
    "theta = np.random.randn(2,1)\n",
    "\n",
    "_=ax.plot(range(n_iter),cost_history,'b.')"
   ]
  },
  {
   "cell_type": "code",
   "execution_count": null,
   "metadata": {},
   "outputs": [],
   "source": []
  },
  {
   "cell_type": "code",
   "execution_count": null,
   "metadata": {},
   "outputs": [],
   "source": [
    "\n",
    "### Plot the graphs for different iterations and learning rates combination\n",
    "\n",
    "# def plot_GD(n_iter,lr,ax,ax1=None):\n",
    "#      \"\"\"\n",
    "#      n_iter = no of iterations\n",
    "#      lr = Learning Rate\n",
    "#      ax = Axis to plot the Gradient Descent\n",
    "#      ax1 = Axis to plot cost_history vs Iterations plot\n",
    "\n",
    "#      \"\"\"\n",
    "#      _ = ax.plot(X,y,'b.')\n",
    "#      theta = np.random.randn(2,1)\n",
    "\n",
    "#      tr =0.1\n",
    "#      cost_history = np.zeros(n_iter)\n",
    "#      for i in range(n_iter):\n",
    "#         pred_prev = X_b.dot(theta)\n",
    "#         theta,h,_ = gradient_descent(X_b,y,theta,lr,1)\n",
    "#         pred = X_b.dot(theta)\n",
    "\n",
    "#         cost_history[i] = h[0]\n",
    "\n",
    "#         if ((i % 25 == 0) ):\n",
    "#             _ = ax.plot(X,pred,'r-',alpha=tr)\n",
    "#             if tr < 0.8:\n",
    "#                 tr = tr+0.2\n",
    "#      if not ax1== None:\n",
    "#         _ = ax1.plot(range(n_iter),cost_history,'b.')  \n",
    "\n",
    "# fig = plt.figure(figsize=(30,25),dpi=200)\n",
    "# fig.subplots_adjust(hspace=0.4, wspace=0.4)\n",
    "\n",
    "# it_lr =[(2000,0.001),(500,0.01),(200,0.05),(100,0.1)]\n",
    "# count =0\n",
    "# for n_iter, lr in it_lr:\n",
    "#     count += 1\n",
    "    \n",
    "#     ax = fig.add_subplot(4, 2, count)\n",
    "#     count += 1\n",
    "   \n",
    "#     ax1 = fig.add_subplot(4,2,count)\n",
    "    \n",
    "#     ax.set_title(\"lr:{}\".format(lr))\n",
    "#     ax1.set_title(\"Iterations:{}\".format(n_iter))\n",
    "#     plot_GD(n_iter,lr,ax,ax1)\n",
    "    "
   ]
  }
 ],
 "metadata": {
  "kernelspec": {
   "display_name": "Python 3",
   "language": "python",
   "name": "python3"
  },
  "language_info": {
   "codemirror_mode": {
    "name": "ipython",
    "version": 3
   },
   "file_extension": ".py",
   "mimetype": "text/x-python",
   "name": "python",
   "nbconvert_exporter": "python",
   "pygments_lexer": "ipython3",
   "version": "3.7.4"
  }
 },
 "nbformat": 4,
 "nbformat_minor": 2
}
